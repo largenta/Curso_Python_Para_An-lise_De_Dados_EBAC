{
  "nbformat": 4,
  "nbformat_minor": 0,
  "metadata": {
    "colab": {
      "provenance": [],
      "toc_visible": true
    },
    "kernelspec": {
      "name": "python3",
      "display_name": "Python 3"
    },
    "language_info": {
      "name": "python"
    }
  },
  "cells": [
    {
      "cell_type": "markdown",
      "source": [
        "# Operadores Aritiméticos"
      ],
      "metadata": {
        "id": "MvWpaqkBUNBk"
      }
    },
    {
      "cell_type": "code",
      "execution_count": 1,
      "metadata": {
        "colab": {
          "base_uri": "https://localhost:8080/"
        },
        "id": "h1mglIjsPNjC",
        "outputId": "d895fa62-ce6a-491d-c151-83f692b032dc"
      },
      "outputs": [
        {
          "output_type": "execute_result",
          "data": {
            "text/plain": [
              "12"
            ]
          },
          "metadata": {},
          "execution_count": 1
        }
      ],
      "source": [
        "# Adição\n",
        "10+2"
      ]
    },
    {
      "cell_type": "code",
      "source": [
        "# Subtração\n",
        "15-9"
      ],
      "metadata": {
        "colab": {
          "base_uri": "https://localhost:8080/"
        },
        "id": "YnnDalVSRNgf",
        "outputId": "f657f93e-d645-4541-b4e4-0e41e9f0dc07"
      },
      "execution_count": 2,
      "outputs": [
        {
          "output_type": "execute_result",
          "data": {
            "text/plain": [
              "6"
            ]
          },
          "metadata": {},
          "execution_count": 2
        }
      ]
    },
    {
      "cell_type": "code",
      "source": [
        "# Multiplicação\n",
        "70*2"
      ],
      "metadata": {
        "colab": {
          "base_uri": "https://localhost:8080/"
        },
        "id": "Ir-TFmwfRRKT",
        "outputId": "7e6c9c13-8573-42a4-bd1a-be16a6b01397"
      },
      "execution_count": 3,
      "outputs": [
        {
          "output_type": "execute_result",
          "data": {
            "text/plain": [
              "140"
            ]
          },
          "metadata": {},
          "execution_count": 3
        }
      ]
    },
    {
      "cell_type": "code",
      "source": [
        "# Divisão\n",
        "10/3"
      ],
      "metadata": {
        "colab": {
          "base_uri": "https://localhost:8080/"
        },
        "id": "1KYPrdDSRWNu",
        "outputId": "c314c62b-4777-48ea-8104-bde4f8ed76eb"
      },
      "execution_count": 4,
      "outputs": [
        {
          "output_type": "execute_result",
          "data": {
            "text/plain": [
              "3.3333333333333335"
            ]
          },
          "metadata": {},
          "execution_count": 4
        }
      ]
    },
    {
      "cell_type": "code",
      "source": [
        "# Divisção Inteira\n",
        "10//3"
      ],
      "metadata": {
        "colab": {
          "base_uri": "https://localhost:8080/"
        },
        "id": "BXuEd2e6Raw1",
        "outputId": "19eca21a-9646-48db-abec-40bbc8562d2c"
      },
      "execution_count": 7,
      "outputs": [
        {
          "output_type": "execute_result",
          "data": {
            "text/plain": [
              "3"
            ]
          },
          "metadata": {},
          "execution_count": 7
        }
      ]
    },
    {
      "cell_type": "code",
      "source": [
        "# Potenciação\n",
        "3**3"
      ],
      "metadata": {
        "colab": {
          "base_uri": "https://localhost:8080/"
        },
        "id": "gqFCjsDuRiyb",
        "outputId": "9963d13f-53da-4adb-c97c-7775e7f86629"
      },
      "execution_count": 9,
      "outputs": [
        {
          "output_type": "execute_result",
          "data": {
            "text/plain": [
              "27"
            ]
          },
          "metadata": {},
          "execution_count": 9
        }
      ]
    },
    {
      "cell_type": "code",
      "source": [
        "# Resto de Divisão\n",
        "10%2"
      ],
      "metadata": {
        "colab": {
          "base_uri": "https://localhost:8080/"
        },
        "id": "8LE2YQ6SS3vx",
        "outputId": "9790c089-063b-4d0f-e3ad-2aa58bdeedc8"
      },
      "execution_count": 13,
      "outputs": [
        {
          "output_type": "execute_result",
          "data": {
            "text/plain": [
              "0"
            ]
          },
          "metadata": {},
          "execution_count": 13
        }
      ]
    },
    {
      "cell_type": "markdown",
      "source": [
        "# Operadores Relacionais\n"
      ],
      "metadata": {
        "id": "DQ2vRx8tUXXT"
      }
    },
    {
      "cell_type": "code",
      "source": [
        "# Menor\n",
        "10<20"
      ],
      "metadata": {
        "colab": {
          "base_uri": "https://localhost:8080/"
        },
        "id": "I9Ipg6-jTpQL",
        "outputId": "49f3653c-6986-4664-cfae-4ffcedf5eef9"
      },
      "execution_count": 14,
      "outputs": [
        {
          "output_type": "execute_result",
          "data": {
            "text/plain": [
              "True"
            ]
          },
          "metadata": {},
          "execution_count": 14
        }
      ]
    },
    {
      "cell_type": "code",
      "source": [
        "# Maior\n",
        "10>5"
      ],
      "metadata": {
        "colab": {
          "base_uri": "https://localhost:8080/"
        },
        "id": "_w6JkCC8TwKt",
        "outputId": "44782753-a464-4745-c265-80e921437f2f"
      },
      "execution_count": 15,
      "outputs": [
        {
          "output_type": "execute_result",
          "data": {
            "text/plain": [
              "True"
            ]
          },
          "metadata": {},
          "execution_count": 15
        }
      ]
    },
    {
      "cell_type": "code",
      "source": [
        "# Menor ou Igual\n",
        "10<=10"
      ],
      "metadata": {
        "colab": {
          "base_uri": "https://localhost:8080/"
        },
        "id": "uSf2EUBQT097",
        "outputId": "809938a1-9da5-4584-ef3b-137735c977f4"
      },
      "execution_count": 16,
      "outputs": [
        {
          "output_type": "execute_result",
          "data": {
            "text/plain": [
              "True"
            ]
          },
          "metadata": {},
          "execution_count": 16
        }
      ]
    },
    {
      "cell_type": "code",
      "source": [
        "# Maior ou Igual\n",
        "20>=19"
      ],
      "metadata": {
        "colab": {
          "base_uri": "https://localhost:8080/"
        },
        "id": "mdFaeyfET6qe",
        "outputId": "507229a1-a218-4279-d9e2-e759994ef8d9"
      },
      "execution_count": 17,
      "outputs": [
        {
          "output_type": "execute_result",
          "data": {
            "text/plain": [
              "True"
            ]
          },
          "metadata": {},
          "execution_count": 17
        }
      ]
    },
    {
      "cell_type": "code",
      "source": [
        "# Igual\n",
        "15 == 15"
      ],
      "metadata": {
        "colab": {
          "base_uri": "https://localhost:8080/"
        },
        "id": "1CyCdCLDUCEC",
        "outputId": "daaf998d-10ea-4795-8091-5c2effbab5cd"
      },
      "execution_count": 18,
      "outputs": [
        {
          "output_type": "execute_result",
          "data": {
            "text/plain": [
              "True"
            ]
          },
          "metadata": {},
          "execution_count": 18
        }
      ]
    },
    {
      "cell_type": "code",
      "source": [
        "# Diferente\n",
        "20!=8"
      ],
      "metadata": {
        "colab": {
          "base_uri": "https://localhost:8080/"
        },
        "id": "DSbaAx7EUHxh",
        "outputId": "8a28a62e-88d2-4f64-c8eb-42c24f8f8120"
      },
      "execution_count": 19,
      "outputs": [
        {
          "output_type": "execute_result",
          "data": {
            "text/plain": [
              "True"
            ]
          },
          "metadata": {},
          "execution_count": 19
        }
      ]
    },
    {
      "cell_type": "markdown",
      "source": [
        "# Operadores Lógicos\n",
        "\n",
        ". And\n",
        "\n",
        ". Or\n",
        "\n",
        ". Not\n"
      ],
      "metadata": {
        "id": "wFPenXEeU4Db"
      }
    },
    {
      "cell_type": "markdown",
      "source": [
        "# Tabela Verdade"
      ],
      "metadata": {
        "id": "-EvwZyDBV8s0"
      }
    },
    {
      "cell_type": "markdown",
      "source": [
        "## And\n",
        "### As duas opções tem que ser verdadeiras"
      ],
      "metadata": {
        "id": "tbuO7Xw7WaL-"
      }
    },
    {
      "cell_type": "code",
      "source": [
        "print (10>8 and 10<7)\n",
        "print (8>3 and 10<11)\n",
        "print (5>9 and 82>9)"
      ],
      "metadata": {
        "colab": {
          "base_uri": "https://localhost:8080/"
        },
        "id": "TIcIj8qRVJNe",
        "outputId": "59ccf87b-a1d8-445c-f07e-a43dc8f8ac0e"
      },
      "execution_count": 22,
      "outputs": [
        {
          "output_type": "stream",
          "name": "stdout",
          "text": [
            "False\n",
            "True\n",
            "False\n"
          ]
        }
      ]
    },
    {
      "cell_type": "markdown",
      "source": [
        "## Or\n",
        "### Apenas uma opção precisa ser verdadeira"
      ],
      "metadata": {
        "id": "FXTUHeT1Wbw7"
      }
    },
    {
      "cell_type": "code",
      "source": [
        "print (7>6 or 5>1)\n",
        "print (8<10 or 4>6)\n",
        "print (12<9 or 15<6)"
      ],
      "metadata": {
        "colab": {
          "base_uri": "https://localhost:8080/"
        },
        "id": "h01ZaTuNWdy7",
        "outputId": "c9bd180c-b159-4276-8a57-271d49945d39"
      },
      "execution_count": 23,
      "outputs": [
        {
          "output_type": "stream",
          "name": "stdout",
          "text": [
            "True\n",
            "True\n",
            "False\n"
          ]
        }
      ]
    },
    {
      "cell_type": "markdown",
      "source": [
        "## Not\n",
        "### Inverte a resposta"
      ],
      "metadata": {
        "id": "jzOqI1yVWxZJ"
      }
    },
    {
      "cell_type": "code",
      "source": [
        "print (not 10<8)\n",
        "print (not 20>9)"
      ],
      "metadata": {
        "colab": {
          "base_uri": "https://localhost:8080/"
        },
        "id": "6Mwz44e1Wzkh",
        "outputId": "8663d539-c76c-4413-be09-0441715e8219"
      },
      "execution_count": 25,
      "outputs": [
        {
          "output_type": "stream",
          "name": "stdout",
          "text": [
            "True\n",
            "False\n"
          ]
        }
      ]
    }
  ]
}