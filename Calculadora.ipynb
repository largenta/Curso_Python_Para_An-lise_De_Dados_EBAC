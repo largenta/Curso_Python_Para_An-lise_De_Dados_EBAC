{
  "nbformat": 4,
  "nbformat_minor": 0,
  "metadata": {
    "colab": {
      "provenance": [],
      "collapsed_sections": [
        "zc2RWMkdOKDG",
        "7kz6qB3aQtB2"
      ]
    },
    "kernelspec": {
      "name": "python3",
      "display_name": "Python 3"
    },
    "language_info": {
      "name": "python"
    }
  },
  "cells": [
    {
      "cell_type": "markdown",
      "source": [
        "#Calculadora\n"
      ],
      "metadata": {
        "id": "nF_gPlJ7FP2X"
      }
    },
    {
      "cell_type": "markdown",
      "source": [
        "##Boas Vindas\n"
      ],
      "metadata": {
        "id": "lgGZ3pjdKaIn"
      }
    },
    {
      "cell_type": "code",
      "source": [
        "num1 = 0\n",
        "num2 = 0\n",
        "print ('Olá, seja bem vindo a calculadora!')\n"
      ],
      "metadata": {
        "colab": {
          "base_uri": "https://localhost:8080/"
        },
        "id": "TbqrZmsnFPk_",
        "outputId": "0ead8201-a536-4067-9ec2-18bdb7069c7b"
      },
      "execution_count": null,
      "outputs": [
        {
          "output_type": "stream",
          "name": "stdout",
          "text": [
            "Olá, seja bem vindo a calculadora!\n"
          ]
        }
      ]
    },
    {
      "cell_type": "code",
      "source": [
        "print ('Eu executo os seguintes cálculos matemáticos: \\nAdição, Subtração, Multiplicação, Divisão, Porcentagem, Raiz Quadrada,\\nPotenciação, Função de Primeiro Grau e Função de Segundo Grau.')"
      ],
      "metadata": {
        "colab": {
          "base_uri": "https://localhost:8080/"
        },
        "id": "bFDrbGFdFlgN",
        "outputId": "7c769de2-cef9-420f-b1d8-c8ac12aea701"
      },
      "execution_count": null,
      "outputs": [
        {
          "output_type": "stream",
          "name": "stdout",
          "text": [
            "Eu executo os seguintes cálculos matemáticos: \n",
            "Adição, Subtração, Multiplicação, Divisão, Porcentagem, Raiz Quadrada,\n",
            "Potenciação, Funções de Primeiro Grau e Funções de Segundo Grau.\n"
          ]
        }
      ]
    },
    {
      "cell_type": "code",
      "source": [
        "print ('Agora digite qual cálculo você deseja fazer: ')\n",
        "print ('Exemplo: Função de Primeiro Grau')\n",
        "calc_mat = input ('Qual cálculo você deseja fazer? \\n')\n"
      ],
      "metadata": {
        "colab": {
          "base_uri": "https://localhost:8080/"
        },
        "id": "FyZah4veGd-k",
        "outputId": "039daf63-8157-4008-eb12-66b15835ee52"
      },
      "execution_count": 8,
      "outputs": [
        {
          "name": "stdout",
          "output_type": "stream",
          "text": [
            "Agora digite qual cálculo você deseja fazer: \n",
            "Exemplo: Função de Primeiro Grau\n",
            "Qual cálculo você deseja fazer? \n",
            "Função de Primeiro Grau\n"
          ]
        }
      ]
    },
    {
      "cell_type": "markdown",
      "source": [
        "##Adição\n"
      ],
      "metadata": {
        "id": "j_v4t0t_KUfQ"
      }
    },
    {
      "cell_type": "code",
      "source": [
        "\n",
        "# Adição\n",
        "if calc_mat == 'Adição' or calc_mat == \"adição\":\n",
        "  print ('Escreva o primeiro termo')\n",
        "  num1 = input()\n",
        "  num1 = int(num1)\n",
        "  print ('Escreva o segundo termo')\n",
        "  num2 = input()\n",
        "  num2 = int(num2)\n",
        "  print ('O resulta da sua soma é:',num1 + num2)\n"
      ],
      "metadata": {
        "id": "WYtajpICGtQx",
        "colab": {
          "base_uri": "https://localhost:8080/"
        },
        "outputId": "a4ec13f6-498e-424f-b752-82b87240f966"
      },
      "execution_count": 6,
      "outputs": [
        {
          "output_type": "stream",
          "name": "stdout",
          "text": [
            "Escreva o primeiro termo\n",
            "2\n",
            "Escreva o segundo termo\n",
            "2\n",
            "O resulta da sua soma é: 4\n"
          ]
        }
      ]
    },
    {
      "cell_type": "markdown",
      "source": [
        "##Subtração\n"
      ],
      "metadata": {
        "id": "zs-dH-rHKuGO"
      }
    },
    {
      "cell_type": "code",
      "source": [
        "if calc_mat == 'Subtração' or calc_mat == 'subtração':\n",
        "  print ('Escreva o primeiro termo')\n",
        "  num1 = input()\n",
        "  num1 = int(num1)\n",
        "  print ('Escreva o segundo termo')\n",
        "  num2 = input ()\n",
        "  num2 = int(num2)\n",
        "  print ('O resultado da subtração é:', num1 - num2)\n"
      ],
      "metadata": {
        "id": "wWt7RxnuKyYw"
      },
      "execution_count": 7,
      "outputs": []
    },
    {
      "cell_type": "markdown",
      "source": [
        "##Multiplicação"
      ],
      "metadata": {
        "id": "bq9O5R0MNJXO"
      }
    },
    {
      "cell_type": "code",
      "source": [
        "if calc_mat == 'Multiplicação' or calc_mat == 'multiplicação':\n",
        "  print ('Escreva o primeiro número')\n",
        "  num1 = input()\n",
        "  num1 = int(num1)\n",
        "  print ('Escreva o segundo número')\n",
        "  num2 = input ()\n",
        "  num2 = int(num2)\n",
        "  print (\"O resultado da multiplicação é:\", num1 * num2)\n"
      ],
      "metadata": {
        "id": "KYmidaa6NMnv"
      },
      "execution_count": null,
      "outputs": []
    },
    {
      "cell_type": "markdown",
      "source": [
        "##Divisão\n"
      ],
      "metadata": {
        "id": "zc2RWMkdOKDG"
      }
    },
    {
      "cell_type": "code",
      "source": [
        "if calc_mat == \"Divisão\" or calc_mat == \"divisão\":\n",
        "  quo = 0\n",
        "  rest = 0\n",
        "  print (\"Escreva o dividendo\")\n",
        "  num1 = input()\n",
        "  num1 = int(num1)\n",
        "  print ('Escreva o divisor')\n",
        "  num2 = input()\n",
        "  num2 = int(num2)\n",
        "  quo = int(quo)\n",
        "  quo = num1 / num2\n",
        "  rest = int(rest)\n",
        "  rest = num1 % num2\n",
        "  print ('O resultado da divisão é:', quo)\n",
        "  print ('O resto dessa divisão é:', rest )"
      ],
      "metadata": {
        "id": "5X6YHRJpONVW"
      },
      "execution_count": null,
      "outputs": []
    },
    {
      "cell_type": "markdown",
      "source": [
        "##Porcentagem"
      ],
      "metadata": {
        "id": "7kz6qB3aQtB2"
      }
    },
    {
      "cell_type": "code",
      "source": [
        "if calc_mat == 'Porcentagem' or calc_mat == 'porcentagem':\n",
        "  porce = 0\n",
        "  print ('Escreva o número que quer saber a porcentagem')\n",
        "  num1 = input()\n",
        "  num1 = int(num1)\n",
        "  print ('Escreva quantos por cento deseja calcular')\n",
        "  num2 = input()\n",
        "  num2 = int(num2)\n",
        "  porce = int(porce)\n",
        "  porce = (num1 * num2) / 100\n",
        "  print ('O resultado da porcentagem é:', porce)\n"
      ],
      "metadata": {
        "id": "uGw2A_IQQu3G"
      },
      "execution_count": null,
      "outputs": []
    },
    {
      "cell_type": "markdown",
      "source": [
        "##Raiz Quadrada\n"
      ],
      "metadata": {
        "id": "TcZLcrvkSjYO"
      }
    },
    {
      "cell_type": "code",
      "source": [
        "import math\n",
        "if calc_mat == \"Raiz Quadrada\" or calc_mat == 'raiz quadrada' or calc_mat == 'Raiz quadrada' or calc_mat == 'raiz Quadrada ':\n",
        "  print ('Escreva o número que quer saber a raiz quadrada')\n",
        "  num1 = input()\n",
        "  num1 = int(num1)\n",
        "  print ('A raiz quadrada do número que você escreveu é: ')\n",
        "  print (math.sqrt(num1))\n",
        "\n"
      ],
      "metadata": {
        "id": "ypNZlBJOSmFu"
      },
      "execution_count": null,
      "outputs": []
    },
    {
      "cell_type": "markdown",
      "source": [
        "##Potenciação\n"
      ],
      "metadata": {
        "id": "cBhxPtZMVkm_"
      }
    },
    {
      "cell_type": "code",
      "source": [
        "if calc_mat == 'Potenciação' or calc_mat == 'potenciação':\n",
        "  print ('Escreva o número que deseja saber a potenciação')\n",
        "  num1 = input()\n",
        "  num1 = int(num1)\n",
        "  print ('Escreva a potenciação que deseja calcular')\n",
        "  num2 = input()\n",
        "  num2 = int(num2)\n",
        "  print ('O resulta da potenciação é:', num1 ** num2)\n"
      ],
      "metadata": {
        "id": "i97baZH_Vmu1"
      },
      "execution_count": null,
      "outputs": []
    }
  ]
}